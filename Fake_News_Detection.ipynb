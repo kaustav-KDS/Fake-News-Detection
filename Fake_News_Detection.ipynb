{
 "cells": [
  {
   "cell_type": "markdown",
   "id": "a7138375-33be-4194-9da0-aad18284c2ea",
   "metadata": {},
   "source": [
    "# Fake News Detection"
   ]
  },
  {
   "cell_type": "markdown",
   "id": "dd6fbbec-611c-4994-812a-6e1765076607",
   "metadata": {},
   "source": [
    "This project aims to build and evaluate machine learning models to detect fake news articles based on textual features."
   ]
  },
  {
   "cell_type": "markdown",
   "id": "d0ba386a-7356-4dca-b175-aac812c632c4",
   "metadata": {},
   "source": [
    "##  Importing Relevant Libraries"
   ]
  },
  {
   "cell_type": "code",
   "execution_count": 2,
   "id": "4e6e8176-8570-4ecd-aa4e-08fe287e503d",
   "metadata": {},
   "outputs": [],
   "source": [
    "import pandas as pd\n",
    "import numpy as np"
   ]
  },
  {
   "cell_type": "markdown",
   "id": "cf6c7b26-6b34-48cc-a668-9fcfe8bf0951",
   "metadata": {},
   "source": [
    "##  Loading the Dataset"
   ]
  },
  {
   "cell_type": "markdown",
   "id": "f8825c98-f3a8-4ee4-9cf9-d2237aae3daf",
   "metadata": {},
   "source": [
    "Two datasets are used — one containing real news articles and the other fake news articles. We will load and inspect them before preprocessing."
   ]
  },
  {
   "cell_type": "code",
   "execution_count": 3,
   "id": "f6dc63ec-3e55-4ed1-b648-3b436fe6d3c9",
   "metadata": {},
   "outputs": [],
   "source": [
    "fake = pd.read_csv(\"fake.csv\")\n",
    "true = pd.read_csv(\"true.csv\")"
   ]
  },
  {
   "cell_type": "code",
   "execution_count": 4,
   "id": "9cd1fa73-2971-40a8-af27-8652d1fa4d28",
   "metadata": {},
   "outputs": [
    {
     "data": {
      "text/html": [
       "<div>\n",
       "<style scoped>\n",
       "    .dataframe tbody tr th:only-of-type {\n",
       "        vertical-align: middle;\n",
       "    }\n",
       "\n",
       "    .dataframe tbody tr th {\n",
       "        vertical-align: top;\n",
       "    }\n",
       "\n",
       "    .dataframe thead th {\n",
       "        text-align: right;\n",
       "    }\n",
       "</style>\n",
       "<table border=\"1\" class=\"dataframe\">\n",
       "  <thead>\n",
       "    <tr style=\"text-align: right;\">\n",
       "      <th></th>\n",
       "      <th>title</th>\n",
       "      <th>text</th>\n",
       "      <th>subject</th>\n",
       "      <th>date</th>\n",
       "    </tr>\n",
       "  </thead>\n",
       "  <tbody>\n",
       "    <tr>\n",
       "      <th>0</th>\n",
       "      <td>Donald Trump Sends Out Embarrassing New Year’...</td>\n",
       "      <td>Donald Trump just couldn t wish all Americans ...</td>\n",
       "      <td>News</td>\n",
       "      <td>December 31, 2017</td>\n",
       "    </tr>\n",
       "    <tr>\n",
       "      <th>1</th>\n",
       "      <td>Drunk Bragging Trump Staffer Started Russian ...</td>\n",
       "      <td>House Intelligence Committee Chairman Devin Nu...</td>\n",
       "      <td>News</td>\n",
       "      <td>December 31, 2017</td>\n",
       "    </tr>\n",
       "    <tr>\n",
       "      <th>2</th>\n",
       "      <td>Sheriff David Clarke Becomes An Internet Joke...</td>\n",
       "      <td>On Friday, it was revealed that former Milwauk...</td>\n",
       "      <td>News</td>\n",
       "      <td>December 30, 2017</td>\n",
       "    </tr>\n",
       "    <tr>\n",
       "      <th>3</th>\n",
       "      <td>Trump Is So Obsessed He Even Has Obama’s Name...</td>\n",
       "      <td>On Christmas day, Donald Trump announced that ...</td>\n",
       "      <td>News</td>\n",
       "      <td>December 29, 2017</td>\n",
       "    </tr>\n",
       "    <tr>\n",
       "      <th>4</th>\n",
       "      <td>Pope Francis Just Called Out Donald Trump Dur...</td>\n",
       "      <td>Pope Francis used his annual Christmas Day mes...</td>\n",
       "      <td>News</td>\n",
       "      <td>December 25, 2017</td>\n",
       "    </tr>\n",
       "  </tbody>\n",
       "</table>\n",
       "</div>"
      ],
      "text/plain": [
       "                                               title  \\\n",
       "0   Donald Trump Sends Out Embarrassing New Year’...   \n",
       "1   Drunk Bragging Trump Staffer Started Russian ...   \n",
       "2   Sheriff David Clarke Becomes An Internet Joke...   \n",
       "3   Trump Is So Obsessed He Even Has Obama’s Name...   \n",
       "4   Pope Francis Just Called Out Donald Trump Dur...   \n",
       "\n",
       "                                                text subject  \\\n",
       "0  Donald Trump just couldn t wish all Americans ...    News   \n",
       "1  House Intelligence Committee Chairman Devin Nu...    News   \n",
       "2  On Friday, it was revealed that former Milwauk...    News   \n",
       "3  On Christmas day, Donald Trump announced that ...    News   \n",
       "4  Pope Francis used his annual Christmas Day mes...    News   \n",
       "\n",
       "                date  \n",
       "0  December 31, 2017  \n",
       "1  December 31, 2017  \n",
       "2  December 30, 2017  \n",
       "3  December 29, 2017  \n",
       "4  December 25, 2017  "
      ]
     },
     "execution_count": 4,
     "metadata": {},
     "output_type": "execute_result"
    }
   ],
   "source": [
    "fake.head()"
   ]
  },
  {
   "cell_type": "code",
   "execution_count": 5,
   "id": "281f79e1-f906-4e13-b374-65b5c2c2550b",
   "metadata": {},
   "outputs": [
    {
     "data": {
      "text/html": [
       "<div>\n",
       "<style scoped>\n",
       "    .dataframe tbody tr th:only-of-type {\n",
       "        vertical-align: middle;\n",
       "    }\n",
       "\n",
       "    .dataframe tbody tr th {\n",
       "        vertical-align: top;\n",
       "    }\n",
       "\n",
       "    .dataframe thead th {\n",
       "        text-align: right;\n",
       "    }\n",
       "</style>\n",
       "<table border=\"1\" class=\"dataframe\">\n",
       "  <thead>\n",
       "    <tr style=\"text-align: right;\">\n",
       "      <th></th>\n",
       "      <th>title</th>\n",
       "      <th>text</th>\n",
       "      <th>subject</th>\n",
       "      <th>date</th>\n",
       "    </tr>\n",
       "  </thead>\n",
       "  <tbody>\n",
       "    <tr>\n",
       "      <th>0</th>\n",
       "      <td>As U.S. budget fight looms, Republicans flip t...</td>\n",
       "      <td>WASHINGTON (Reuters) - The head of a conservat...</td>\n",
       "      <td>politicsNews</td>\n",
       "      <td>December 31, 2017</td>\n",
       "    </tr>\n",
       "    <tr>\n",
       "      <th>1</th>\n",
       "      <td>U.S. military to accept transgender recruits o...</td>\n",
       "      <td>WASHINGTON (Reuters) - Transgender people will...</td>\n",
       "      <td>politicsNews</td>\n",
       "      <td>December 29, 2017</td>\n",
       "    </tr>\n",
       "    <tr>\n",
       "      <th>2</th>\n",
       "      <td>Senior U.S. Republican senator: 'Let Mr. Muell...</td>\n",
       "      <td>WASHINGTON (Reuters) - The special counsel inv...</td>\n",
       "      <td>politicsNews</td>\n",
       "      <td>December 31, 2017</td>\n",
       "    </tr>\n",
       "    <tr>\n",
       "      <th>3</th>\n",
       "      <td>FBI Russia probe helped by Australian diplomat...</td>\n",
       "      <td>WASHINGTON (Reuters) - Trump campaign adviser ...</td>\n",
       "      <td>politicsNews</td>\n",
       "      <td>December 30, 2017</td>\n",
       "    </tr>\n",
       "    <tr>\n",
       "      <th>4</th>\n",
       "      <td>Trump wants Postal Service to charge 'much mor...</td>\n",
       "      <td>SEATTLE/WASHINGTON (Reuters) - President Donal...</td>\n",
       "      <td>politicsNews</td>\n",
       "      <td>December 29, 2017</td>\n",
       "    </tr>\n",
       "  </tbody>\n",
       "</table>\n",
       "</div>"
      ],
      "text/plain": [
       "                                               title  \\\n",
       "0  As U.S. budget fight looms, Republicans flip t...   \n",
       "1  U.S. military to accept transgender recruits o...   \n",
       "2  Senior U.S. Republican senator: 'Let Mr. Muell...   \n",
       "3  FBI Russia probe helped by Australian diplomat...   \n",
       "4  Trump wants Postal Service to charge 'much mor...   \n",
       "\n",
       "                                                text       subject  \\\n",
       "0  WASHINGTON (Reuters) - The head of a conservat...  politicsNews   \n",
       "1  WASHINGTON (Reuters) - Transgender people will...  politicsNews   \n",
       "2  WASHINGTON (Reuters) - The special counsel inv...  politicsNews   \n",
       "3  WASHINGTON (Reuters) - Trump campaign adviser ...  politicsNews   \n",
       "4  SEATTLE/WASHINGTON (Reuters) - President Donal...  politicsNews   \n",
       "\n",
       "                 date  \n",
       "0  December 31, 2017   \n",
       "1  December 29, 2017   \n",
       "2  December 31, 2017   \n",
       "3  December 30, 2017   \n",
       "4  December 29, 2017   "
      ]
     },
     "execution_count": 5,
     "metadata": {},
     "output_type": "execute_result"
    }
   ],
   "source": [
    "true.head()"
   ]
  },
  {
   "cell_type": "markdown",
   "id": "9659f8d0-2976-4b47-a5f7-5c3c4c63eaf0",
   "metadata": {},
   "source": [
    "##  Creating a New Column: `class`"
   ]
  },
  {
   "cell_type": "markdown",
   "id": "3fb4110d-d6ca-485a-97f3-7c6c63e643ba",
   "metadata": {},
   "source": [
    "We assign a target label to each dataset: `1` for real news and `0` for fake news. This enables supervised classification."
   ]
  },
  {
   "cell_type": "code",
   "execution_count": 6,
   "id": "44468ad0-8f88-40a4-86cc-e0e5141571d7",
   "metadata": {},
   "outputs": [],
   "source": [
    "true[\"class\"] = 1\n",
    "fake[\"class\"] = 0"
   ]
  },
  {
   "cell_type": "code",
   "execution_count": 7,
   "id": "b27c65f2-df65-4c94-b2c0-b5db292b0183",
   "metadata": {},
   "outputs": [
    {
     "name": "stdout",
     "output_type": "stream",
     "text": [
      "<class 'pandas.core.frame.DataFrame'>\n",
      "RangeIndex: 21417 entries, 0 to 21416\n",
      "Data columns (total 5 columns):\n",
      " #   Column   Non-Null Count  Dtype \n",
      "---  ------   --------------  ----- \n",
      " 0   title    21417 non-null  object\n",
      " 1   text     21417 non-null  object\n",
      " 2   subject  21417 non-null  object\n",
      " 3   date     21417 non-null  object\n",
      " 4   class    21417 non-null  int64 \n",
      "dtypes: int64(1), object(4)\n",
      "memory usage: 836.7+ KB\n"
     ]
    }
   ],
   "source": [
    "true.info()"
   ]
  },
  {
   "cell_type": "code",
   "execution_count": 8,
   "id": "2f70d708-764d-4ec9-8c6f-2f1e6754bb39",
   "metadata": {},
   "outputs": [
    {
     "name": "stdout",
     "output_type": "stream",
     "text": [
      "<class 'pandas.core.frame.DataFrame'>\n",
      "RangeIndex: 23481 entries, 0 to 23480\n",
      "Data columns (total 5 columns):\n",
      " #   Column   Non-Null Count  Dtype \n",
      "---  ------   --------------  ----- \n",
      " 0   title    23481 non-null  object\n",
      " 1   text     23481 non-null  object\n",
      " 2   subject  23481 non-null  object\n",
      " 3   date     23481 non-null  object\n",
      " 4   class    23481 non-null  int64 \n",
      "dtypes: int64(1), object(4)\n",
      "memory usage: 917.4+ KB\n"
     ]
    }
   ],
   "source": [
    "fake.info()"
   ]
  },
  {
   "cell_type": "markdown",
   "id": "9dc873fd-de43-4186-9ef8-98d48463c901",
   "metadata": {},
   "source": [
    "##  Separating Data for Manual Testing"
   ]
  },
  {
   "cell_type": "markdown",
   "id": "d1ea9c0e-13f6-4de4-9d7a-acb9c284cf72",
   "metadata": {},
   "source": [
    "A few observations from each class are held out for manual testing after training the models."
   ]
  },
  {
   "cell_type": "code",
   "execution_count": 9,
   "id": "1c1e82e9-8821-4d9f-a4f5-195a832ced80",
   "metadata": {},
   "outputs": [],
   "source": [
    "true_sample = true.sample(n=5, random_state = 44)\n",
    "true.drop(true_sample.index, inplace= True)"
   ]
  },
  {
   "cell_type": "code",
   "execution_count": 10,
   "id": "691a96e6-f337-43df-9231-2c9df45b2dd4",
   "metadata": {},
   "outputs": [],
   "source": [
    "fake_sample = fake.sample(n=5, random_state = 42)\n",
    "fake.drop(fake_sample.index, inplace= True)"
   ]
  },
  {
   "cell_type": "code",
   "execution_count": 11,
   "id": "67c20211-29fb-433c-b99f-841d92a3deba",
   "metadata": {},
   "outputs": [],
   "source": [
    "true_sample.reset_index(inplace= True)\n",
    "true_sample.drop(columns=['index'], inplace= True)"
   ]
  },
  {
   "cell_type": "code",
   "execution_count": 11,
   "id": "47f819a9-c1fa-487a-a93a-4601340ee393",
   "metadata": {},
   "outputs": [
    {
     "data": {
      "text/html": [
       "<div>\n",
       "<style scoped>\n",
       "    .dataframe tbody tr th:only-of-type {\n",
       "        vertical-align: middle;\n",
       "    }\n",
       "\n",
       "    .dataframe tbody tr th {\n",
       "        vertical-align: top;\n",
       "    }\n",
       "\n",
       "    .dataframe thead th {\n",
       "        text-align: right;\n",
       "    }\n",
       "</style>\n",
       "<table border=\"1\" class=\"dataframe\">\n",
       "  <thead>\n",
       "    <tr style=\"text-align: right;\">\n",
       "      <th></th>\n",
       "      <th>title</th>\n",
       "      <th>text</th>\n",
       "      <th>subject</th>\n",
       "      <th>date</th>\n",
       "      <th>class</th>\n",
       "    </tr>\n",
       "  </thead>\n",
       "  <tbody>\n",
       "    <tr>\n",
       "      <th>0</th>\n",
       "      <td>Ukraine's Poroshenko vows to work for quick ex...</td>\n",
       "      <td>BERLIN (Reuters) - Ukrainian President Petro P...</td>\n",
       "      <td>worldnews</td>\n",
       "      <td>December 22, 2017</td>\n",
       "      <td>1</td>\n",
       "    </tr>\n",
       "    <tr>\n",
       "      <th>1</th>\n",
       "      <td>China considers three-year jail terms for disr...</td>\n",
       "      <td>BEIJING (Reuters) - China s largely rubber-sta...</td>\n",
       "      <td>worldnews</td>\n",
       "      <td>October 31, 2017</td>\n",
       "      <td>1</td>\n",
       "    </tr>\n",
       "    <tr>\n",
       "      <th>2</th>\n",
       "      <td>Malaysia asks Interpol to trace financier link...</td>\n",
       "      <td>KUALA LUMPUR (Reuters) - Malaysia has asked In...</td>\n",
       "      <td>worldnews</td>\n",
       "      <td>October 23, 2017</td>\n",
       "      <td>1</td>\n",
       "    </tr>\n",
       "    <tr>\n",
       "      <th>3</th>\n",
       "      <td>Euro budget, ESM, banking union stances unreso...</td>\n",
       "      <td>BERLIN (Reuters) - German parties exploring a ...</td>\n",
       "      <td>worldnews</td>\n",
       "      <td>November 10, 2017</td>\n",
       "      <td>1</td>\n",
       "    </tr>\n",
       "    <tr>\n",
       "      <th>4</th>\n",
       "      <td>Trump floats idea of using NATO in fight again...</td>\n",
       "      <td>WASHINGTON - Republican Donald Trump said on T...</td>\n",
       "      <td>politicsNews</td>\n",
       "      <td>June 30, 2016</td>\n",
       "      <td>1</td>\n",
       "    </tr>\n",
       "  </tbody>\n",
       "</table>\n",
       "</div>"
      ],
      "text/plain": [
       "                                               title  \\\n",
       "0  Ukraine's Poroshenko vows to work for quick ex...   \n",
       "1  China considers three-year jail terms for disr...   \n",
       "2  Malaysia asks Interpol to trace financier link...   \n",
       "3  Euro budget, ESM, banking union stances unreso...   \n",
       "4  Trump floats idea of using NATO in fight again...   \n",
       "\n",
       "                                                text       subject  \\\n",
       "0  BERLIN (Reuters) - Ukrainian President Petro P...     worldnews   \n",
       "1  BEIJING (Reuters) - China s largely rubber-sta...     worldnews   \n",
       "2  KUALA LUMPUR (Reuters) - Malaysia has asked In...     worldnews   \n",
       "3  BERLIN (Reuters) - German parties exploring a ...     worldnews   \n",
       "4  WASHINGTON - Republican Donald Trump said on T...  politicsNews   \n",
       "\n",
       "                 date  class  \n",
       "0  December 22, 2017       1  \n",
       "1   October 31, 2017       1  \n",
       "2   October 23, 2017       1  \n",
       "3  November 10, 2017       1  \n",
       "4      June 30, 2016       1  "
      ]
     },
     "execution_count": 11,
     "metadata": {},
     "output_type": "execute_result"
    }
   ],
   "source": [
    "true_sample"
   ]
  },
  {
   "cell_type": "code",
   "execution_count": 12,
   "id": "743ce853-5d42-49ca-b9e1-82c2eaaeee1e",
   "metadata": {},
   "outputs": [],
   "source": [
    "fake_sample.reset_index(inplace=True)\n",
    "fake_sample.drop(columns=[\"index\"], inplace = True)"
   ]
  },
  {
   "cell_type": "code",
   "execution_count": 13,
   "id": "d0414ba3-cbe6-428f-80ad-560cb503dde0",
   "metadata": {},
   "outputs": [
    {
     "data": {
      "text/html": [
       "<div>\n",
       "<style scoped>\n",
       "    .dataframe tbody tr th:only-of-type {\n",
       "        vertical-align: middle;\n",
       "    }\n",
       "\n",
       "    .dataframe tbody tr th {\n",
       "        vertical-align: top;\n",
       "    }\n",
       "\n",
       "    .dataframe thead th {\n",
       "        text-align: right;\n",
       "    }\n",
       "</style>\n",
       "<table border=\"1\" class=\"dataframe\">\n",
       "  <thead>\n",
       "    <tr style=\"text-align: right;\">\n",
       "      <th></th>\n",
       "      <th>title</th>\n",
       "      <th>text</th>\n",
       "      <th>subject</th>\n",
       "      <th>date</th>\n",
       "      <th>class</th>\n",
       "    </tr>\n",
       "  </thead>\n",
       "  <tbody>\n",
       "    <tr>\n",
       "      <th>0</th>\n",
       "      <td>ABOUT HILLARY’S COUGH: We Discovered The Secre...</td>\n",
       "      <td></td>\n",
       "      <td>politics</td>\n",
       "      <td>Jul 20, 2016</td>\n",
       "      <td>0</td>\n",
       "    </tr>\n",
       "    <tr>\n",
       "      <th>1</th>\n",
       "      <td>BREAKING: OBAMACARE REPEAL Clears First Hurdle...</td>\n",
       "      <td>The Senate voted 51-48 this afternoon to proce...</td>\n",
       "      <td>politics</td>\n",
       "      <td>Jan 4, 2017</td>\n",
       "      <td>0</td>\n",
       "    </tr>\n",
       "    <tr>\n",
       "      <th>2</th>\n",
       "      <td>‘SLEEPY’ JUSTICE GINSBURG: Excites Crowd By Sa...</td>\n",
       "      <td>So much for the SCOTUS not being political Che...</td>\n",
       "      <td>left-news</td>\n",
       "      <td>Feb 7, 2017</td>\n",
       "      <td>0</td>\n",
       "    </tr>\n",
       "    <tr>\n",
       "      <th>3</th>\n",
       "      <td>WATCH: Kellyanne Conway Very Upset Hillary Cl...</td>\n",
       "      <td>White House counselor Kellyanne Conway crawled...</td>\n",
       "      <td>News</td>\n",
       "      <td>August 24, 2017</td>\n",
       "      <td>0</td>\n",
       "    </tr>\n",
       "    <tr>\n",
       "      <th>4</th>\n",
       "      <td>GOP Gives Trump The Middle Finger, Prepares T...</td>\n",
       "      <td>Donald Trump may have decided that Russia is g...</td>\n",
       "      <td>News</td>\n",
       "      <td>December 9, 2016</td>\n",
       "      <td>0</td>\n",
       "    </tr>\n",
       "  </tbody>\n",
       "</table>\n",
       "</div>"
      ],
      "text/plain": [
       "                                               title  \\\n",
       "0  ABOUT HILLARY’S COUGH: We Discovered The Secre...   \n",
       "1  BREAKING: OBAMACARE REPEAL Clears First Hurdle...   \n",
       "2  ‘SLEEPY’ JUSTICE GINSBURG: Excites Crowd By Sa...   \n",
       "3   WATCH: Kellyanne Conway Very Upset Hillary Cl...   \n",
       "4   GOP Gives Trump The Middle Finger, Prepares T...   \n",
       "\n",
       "                                                text    subject  \\\n",
       "0                                                      politics   \n",
       "1  The Senate voted 51-48 this afternoon to proce...   politics   \n",
       "2  So much for the SCOTUS not being political Che...  left-news   \n",
       "3  White House counselor Kellyanne Conway crawled...       News   \n",
       "4  Donald Trump may have decided that Russia is g...       News   \n",
       "\n",
       "               date  class  \n",
       "0      Jul 20, 2016      0  \n",
       "1       Jan 4, 2017      0  \n",
       "2       Feb 7, 2017      0  \n",
       "3   August 24, 2017      0  \n",
       "4  December 9, 2016      0  "
      ]
     },
     "execution_count": 13,
     "metadata": {},
     "output_type": "execute_result"
    }
   ],
   "source": [
    "fake_sample"
   ]
  },
  {
   "cell_type": "markdown",
   "id": "76f10b41-1943-4739-a530-fa7135948b84",
   "metadata": {},
   "source": [
    "## Merging the Real and Fake Datasets"
   ]
  },
  {
   "cell_type": "markdown",
   "id": "9ec2499c-939b-4fdf-a17a-e396a4eef20f",
   "metadata": {},
   "source": [
    "We combine both datasets into a single DataFrame to simplify preprocessing and modeling."
   ]
  },
  {
   "cell_type": "code",
   "execution_count": 13,
   "id": "a841c7e1-4220-4e26-a972-e3b68fee8b27",
   "metadata": {},
   "outputs": [
    {
     "data": {
      "text/html": [
       "<div>\n",
       "<style scoped>\n",
       "    .dataframe tbody tr th:only-of-type {\n",
       "        vertical-align: middle;\n",
       "    }\n",
       "\n",
       "    .dataframe tbody tr th {\n",
       "        vertical-align: top;\n",
       "    }\n",
       "\n",
       "    .dataframe thead th {\n",
       "        text-align: right;\n",
       "    }\n",
       "</style>\n",
       "<table border=\"1\" class=\"dataframe\">\n",
       "  <thead>\n",
       "    <tr style=\"text-align: right;\">\n",
       "      <th></th>\n",
       "      <th>title</th>\n",
       "      <th>text</th>\n",
       "      <th>subject</th>\n",
       "      <th>date</th>\n",
       "      <th>class</th>\n",
       "    </tr>\n",
       "  </thead>\n",
       "  <tbody>\n",
       "    <tr>\n",
       "      <th>0</th>\n",
       "      <td>As U.S. budget fight looms, Republicans flip t...</td>\n",
       "      <td>WASHINGTON (Reuters) - The head of a conservat...</td>\n",
       "      <td>politicsNews</td>\n",
       "      <td>December 31, 2017</td>\n",
       "      <td>1</td>\n",
       "    </tr>\n",
       "    <tr>\n",
       "      <th>1</th>\n",
       "      <td>U.S. military to accept transgender recruits o...</td>\n",
       "      <td>WASHINGTON (Reuters) - Transgender people will...</td>\n",
       "      <td>politicsNews</td>\n",
       "      <td>December 29, 2017</td>\n",
       "      <td>1</td>\n",
       "    </tr>\n",
       "    <tr>\n",
       "      <th>2</th>\n",
       "      <td>Senior U.S. Republican senator: 'Let Mr. Muell...</td>\n",
       "      <td>WASHINGTON (Reuters) - The special counsel inv...</td>\n",
       "      <td>politicsNews</td>\n",
       "      <td>December 31, 2017</td>\n",
       "      <td>1</td>\n",
       "    </tr>\n",
       "    <tr>\n",
       "      <th>3</th>\n",
       "      <td>FBI Russia probe helped by Australian diplomat...</td>\n",
       "      <td>WASHINGTON (Reuters) - Trump campaign adviser ...</td>\n",
       "      <td>politicsNews</td>\n",
       "      <td>December 30, 2017</td>\n",
       "      <td>1</td>\n",
       "    </tr>\n",
       "    <tr>\n",
       "      <th>4</th>\n",
       "      <td>Trump wants Postal Service to charge 'much mor...</td>\n",
       "      <td>SEATTLE/WASHINGTON (Reuters) - President Donal...</td>\n",
       "      <td>politicsNews</td>\n",
       "      <td>December 29, 2017</td>\n",
       "      <td>1</td>\n",
       "    </tr>\n",
       "    <tr>\n",
       "      <th>...</th>\n",
       "      <td>...</td>\n",
       "      <td>...</td>\n",
       "      <td>...</td>\n",
       "      <td>...</td>\n",
       "      <td>...</td>\n",
       "    </tr>\n",
       "    <tr>\n",
       "      <th>23476</th>\n",
       "      <td>McPain: John McCain Furious That Iran Treated ...</td>\n",
       "      <td>21st Century Wire says As 21WIRE reported earl...</td>\n",
       "      <td>Middle-east</td>\n",
       "      <td>January 16, 2016</td>\n",
       "      <td>0</td>\n",
       "    </tr>\n",
       "    <tr>\n",
       "      <th>23477</th>\n",
       "      <td>JUSTICE? Yahoo Settles E-mail Privacy Class-ac...</td>\n",
       "      <td>21st Century Wire says It s a familiar theme. ...</td>\n",
       "      <td>Middle-east</td>\n",
       "      <td>January 16, 2016</td>\n",
       "      <td>0</td>\n",
       "    </tr>\n",
       "    <tr>\n",
       "      <th>23478</th>\n",
       "      <td>Sunnistan: US and Allied ‘Safe Zone’ Plan to T...</td>\n",
       "      <td>Patrick Henningsen  21st Century WireRemember ...</td>\n",
       "      <td>Middle-east</td>\n",
       "      <td>January 15, 2016</td>\n",
       "      <td>0</td>\n",
       "    </tr>\n",
       "    <tr>\n",
       "      <th>23479</th>\n",
       "      <td>How to Blow $700 Million: Al Jazeera America F...</td>\n",
       "      <td>21st Century Wire says Al Jazeera America will...</td>\n",
       "      <td>Middle-east</td>\n",
       "      <td>January 14, 2016</td>\n",
       "      <td>0</td>\n",
       "    </tr>\n",
       "    <tr>\n",
       "      <th>23480</th>\n",
       "      <td>10 U.S. Navy Sailors Held by Iranian Military ...</td>\n",
       "      <td>21st Century Wire says As 21WIRE predicted in ...</td>\n",
       "      <td>Middle-east</td>\n",
       "      <td>January 12, 2016</td>\n",
       "      <td>0</td>\n",
       "    </tr>\n",
       "  </tbody>\n",
       "</table>\n",
       "<p>44888 rows × 5 columns</p>\n",
       "</div>"
      ],
      "text/plain": [
       "                                                   title  \\\n",
       "0      As U.S. budget fight looms, Republicans flip t...   \n",
       "1      U.S. military to accept transgender recruits o...   \n",
       "2      Senior U.S. Republican senator: 'Let Mr. Muell...   \n",
       "3      FBI Russia probe helped by Australian diplomat...   \n",
       "4      Trump wants Postal Service to charge 'much mor...   \n",
       "...                                                  ...   \n",
       "23476  McPain: John McCain Furious That Iran Treated ...   \n",
       "23477  JUSTICE? Yahoo Settles E-mail Privacy Class-ac...   \n",
       "23478  Sunnistan: US and Allied ‘Safe Zone’ Plan to T...   \n",
       "23479  How to Blow $700 Million: Al Jazeera America F...   \n",
       "23480  10 U.S. Navy Sailors Held by Iranian Military ...   \n",
       "\n",
       "                                                    text       subject  \\\n",
       "0      WASHINGTON (Reuters) - The head of a conservat...  politicsNews   \n",
       "1      WASHINGTON (Reuters) - Transgender people will...  politicsNews   \n",
       "2      WASHINGTON (Reuters) - The special counsel inv...  politicsNews   \n",
       "3      WASHINGTON (Reuters) - Trump campaign adviser ...  politicsNews   \n",
       "4      SEATTLE/WASHINGTON (Reuters) - President Donal...  politicsNews   \n",
       "...                                                  ...           ...   \n",
       "23476  21st Century Wire says As 21WIRE reported earl...   Middle-east   \n",
       "23477  21st Century Wire says It s a familiar theme. ...   Middle-east   \n",
       "23478  Patrick Henningsen  21st Century WireRemember ...   Middle-east   \n",
       "23479  21st Century Wire says Al Jazeera America will...   Middle-east   \n",
       "23480  21st Century Wire says As 21WIRE predicted in ...   Middle-east   \n",
       "\n",
       "                     date  class  \n",
       "0      December 31, 2017       1  \n",
       "1      December 29, 2017       1  \n",
       "2      December 31, 2017       1  \n",
       "3      December 30, 2017       1  \n",
       "4      December 29, 2017       1  \n",
       "...                   ...    ...  \n",
       "23476    January 16, 2016      0  \n",
       "23477    January 16, 2016      0  \n",
       "23478    January 15, 2016      0  \n",
       "23479    January 14, 2016      0  \n",
       "23480    January 12, 2016      0  \n",
       "\n",
       "[44888 rows x 5 columns]"
      ]
     },
     "execution_count": 13,
     "metadata": {},
     "output_type": "execute_result"
    }
   ],
   "source": [
    "df = pd.concat([true, fake], axis= 0)\n",
    "df"
   ]
  },
  {
   "cell_type": "markdown",
   "id": "4f016863-d1b8-4bd2-b5b4-104656d9109d",
   "metadata": {},
   "source": [
    "### Shuffling the Dataset"
   ]
  },
  {
   "cell_type": "markdown",
   "id": "92155266-7dd8-4a1c-8311-7f9624bb47e8",
   "metadata": {},
   "source": [
    "Shuffling ensures a random mix of fake and real news to prevent order-based biases."
   ]
  },
  {
   "cell_type": "code",
   "execution_count": 14,
   "id": "0f8b0395-4aa3-4a2a-9139-3a47a3974532",
   "metadata": {},
   "outputs": [
    {
     "data": {
      "text/html": [
       "<div>\n",
       "<style scoped>\n",
       "    .dataframe tbody tr th:only-of-type {\n",
       "        vertical-align: middle;\n",
       "    }\n",
       "\n",
       "    .dataframe tbody tr th {\n",
       "        vertical-align: top;\n",
       "    }\n",
       "\n",
       "    .dataframe thead th {\n",
       "        text-align: right;\n",
       "    }\n",
       "</style>\n",
       "<table border=\"1\" class=\"dataframe\">\n",
       "  <thead>\n",
       "    <tr style=\"text-align: right;\">\n",
       "      <th></th>\n",
       "      <th>title</th>\n",
       "      <th>text</th>\n",
       "      <th>subject</th>\n",
       "      <th>date</th>\n",
       "      <th>class</th>\n",
       "    </tr>\n",
       "  </thead>\n",
       "  <tbody>\n",
       "    <tr>\n",
       "      <th>10092</th>\n",
       "      <td>State Department says halts review of Clinton ...</td>\n",
       "      <td>WASHINGTON (Reuters) - The U.S. State Departme...</td>\n",
       "      <td>politicsNews</td>\n",
       "      <td>April 1, 2016</td>\n",
       "      <td>1</td>\n",
       "    </tr>\n",
       "    <tr>\n",
       "      <th>3072</th>\n",
       "      <td>Jeff Sessions Lies Through His Teeth In Openi...</td>\n",
       "      <td>Alabama Senator Jeff Sessions, who is Donald T...</td>\n",
       "      <td>News</td>\n",
       "      <td>January 10, 2017</td>\n",
       "      <td>0</td>\n",
       "    </tr>\n",
       "    <tr>\n",
       "      <th>14213</th>\n",
       "      <td>LIBERAL “The View” HOSTS MOCK HILLARY’S RESPON...</td>\n",
       "      <td>Hell begins freeze over Did We Ever Think That...</td>\n",
       "      <td>politics</td>\n",
       "      <td>Mar 24, 2016</td>\n",
       "      <td>0</td>\n",
       "    </tr>\n",
       "    <tr>\n",
       "      <th>11047</th>\n",
       "      <td>PRESIDENT TRUMP Hits Back At Activist Judge On...</td>\n",
       "      <td>Judge Orrick in California ruled against Presi...</td>\n",
       "      <td>politics</td>\n",
       "      <td>Apr 26, 2017</td>\n",
       "      <td>0</td>\n",
       "    </tr>\n",
       "    <tr>\n",
       "      <th>16630</th>\n",
       "      <td>BRILLIANT! Why “Democratic” Socialism Doesn’t ...</td>\n",
       "      <td>This is Stephen Crowder at his best So smart a...</td>\n",
       "      <td>Government News</td>\n",
       "      <td>Apr 30, 2016</td>\n",
       "      <td>0</td>\n",
       "    </tr>\n",
       "  </tbody>\n",
       "</table>\n",
       "</div>"
      ],
      "text/plain": [
       "                                                   title  \\\n",
       "10092  State Department says halts review of Clinton ...   \n",
       "3072    Jeff Sessions Lies Through His Teeth In Openi...   \n",
       "14213  LIBERAL “The View” HOSTS MOCK HILLARY’S RESPON...   \n",
       "11047  PRESIDENT TRUMP Hits Back At Activist Judge On...   \n",
       "16630  BRILLIANT! Why “Democratic” Socialism Doesn’t ...   \n",
       "\n",
       "                                                    text          subject  \\\n",
       "10092  WASHINGTON (Reuters) - The U.S. State Departme...     politicsNews   \n",
       "3072   Alabama Senator Jeff Sessions, who is Donald T...             News   \n",
       "14213  Hell begins freeze over Did We Ever Think That...         politics   \n",
       "11047  Judge Orrick in California ruled against Presi...         politics   \n",
       "16630  This is Stephen Crowder at his best So smart a...  Government News   \n",
       "\n",
       "                   date  class  \n",
       "10092    April 1, 2016       1  \n",
       "3072   January 10, 2017      0  \n",
       "14213      Mar 24, 2016      0  \n",
       "11047      Apr 26, 2017      0  \n",
       "16630      Apr 30, 2016      0  "
      ]
     },
     "execution_count": 14,
     "metadata": {},
     "output_type": "execute_result"
    }
   ],
   "source": [
    "df = df.sample(frac= 1)\n",
    "df.head()"
   ]
  },
  {
   "cell_type": "code",
   "execution_count": 15,
   "id": "2d1d6bb2-ad10-497c-8c30-65ecd4665ae6",
   "metadata": {},
   "outputs": [],
   "source": [
    "df.reset_index(inplace=True)\n",
    "df.drop(columns= [\"index\"], inplace = True)"
   ]
  },
  {
   "cell_type": "code",
   "execution_count": 16,
   "id": "95407a47-11d2-49d4-9769-cd34f74acac4",
   "metadata": {},
   "outputs": [
    {
     "data": {
      "text/html": [
       "<div>\n",
       "<style scoped>\n",
       "    .dataframe tbody tr th:only-of-type {\n",
       "        vertical-align: middle;\n",
       "    }\n",
       "\n",
       "    .dataframe tbody tr th {\n",
       "        vertical-align: top;\n",
       "    }\n",
       "\n",
       "    .dataframe thead th {\n",
       "        text-align: right;\n",
       "    }\n",
       "</style>\n",
       "<table border=\"1\" class=\"dataframe\">\n",
       "  <thead>\n",
       "    <tr style=\"text-align: right;\">\n",
       "      <th></th>\n",
       "      <th>title</th>\n",
       "      <th>text</th>\n",
       "      <th>subject</th>\n",
       "      <th>date</th>\n",
       "      <th>class</th>\n",
       "    </tr>\n",
       "  </thead>\n",
       "  <tbody>\n",
       "    <tr>\n",
       "      <th>0</th>\n",
       "      <td>State Department says halts review of Clinton ...</td>\n",
       "      <td>WASHINGTON (Reuters) - The U.S. State Departme...</td>\n",
       "      <td>politicsNews</td>\n",
       "      <td>April 1, 2016</td>\n",
       "      <td>1</td>\n",
       "    </tr>\n",
       "    <tr>\n",
       "      <th>1</th>\n",
       "      <td>Jeff Sessions Lies Through His Teeth In Openi...</td>\n",
       "      <td>Alabama Senator Jeff Sessions, who is Donald T...</td>\n",
       "      <td>News</td>\n",
       "      <td>January 10, 2017</td>\n",
       "      <td>0</td>\n",
       "    </tr>\n",
       "    <tr>\n",
       "      <th>2</th>\n",
       "      <td>LIBERAL “The View” HOSTS MOCK HILLARY’S RESPON...</td>\n",
       "      <td>Hell begins freeze over Did We Ever Think That...</td>\n",
       "      <td>politics</td>\n",
       "      <td>Mar 24, 2016</td>\n",
       "      <td>0</td>\n",
       "    </tr>\n",
       "    <tr>\n",
       "      <th>3</th>\n",
       "      <td>PRESIDENT TRUMP Hits Back At Activist Judge On...</td>\n",
       "      <td>Judge Orrick in California ruled against Presi...</td>\n",
       "      <td>politics</td>\n",
       "      <td>Apr 26, 2017</td>\n",
       "      <td>0</td>\n",
       "    </tr>\n",
       "    <tr>\n",
       "      <th>4</th>\n",
       "      <td>BRILLIANT! Why “Democratic” Socialism Doesn’t ...</td>\n",
       "      <td>This is Stephen Crowder at his best So smart a...</td>\n",
       "      <td>Government News</td>\n",
       "      <td>Apr 30, 2016</td>\n",
       "      <td>0</td>\n",
       "    </tr>\n",
       "    <tr>\n",
       "      <th>5</th>\n",
       "      <td>MSNBC Host Can’t Help But Be Perfectly Sexist...</td>\n",
       "      <td>Tuesday night was a very big night for Democra...</td>\n",
       "      <td>News</td>\n",
       "      <td>March 16, 2016</td>\n",
       "      <td>0</td>\n",
       "    </tr>\n",
       "    <tr>\n",
       "      <th>6</th>\n",
       "      <td>Supreme Court standoff looms over Republicans'...</td>\n",
       "      <td>WASHINGTON (Reuters) - Republicans’ refusal to...</td>\n",
       "      <td>politicsNews</td>\n",
       "      <td>March 1, 2016</td>\n",
       "      <td>1</td>\n",
       "    </tr>\n",
       "    <tr>\n",
       "      <th>7</th>\n",
       "      <td>Male Republican Blames ‘Female Senators’ For ...</td>\n",
       "      <td>A Texas Republican congressman blamed female R...</td>\n",
       "      <td>News</td>\n",
       "      <td>July 24, 2017</td>\n",
       "      <td>0</td>\n",
       "    </tr>\n",
       "    <tr>\n",
       "      <th>8</th>\n",
       "      <td>Clinton sole presidential hopeful to attend As...</td>\n",
       "      <td>NEW YORK (Reuters) - U.S. Democrat Hillary Cli...</td>\n",
       "      <td>politicsNews</td>\n",
       "      <td>April 27, 2016</td>\n",
       "      <td>1</td>\n",
       "    </tr>\n",
       "    <tr>\n",
       "      <th>9</th>\n",
       "      <td>Russia says U.S. Iran sanctions undermine nucl...</td>\n",
       "      <td>UNITED NATIONS (Reuters) - U.S. unilateral san...</td>\n",
       "      <td>worldnews</td>\n",
       "      <td>September 21, 2017</td>\n",
       "      <td>1</td>\n",
       "    </tr>\n",
       "  </tbody>\n",
       "</table>\n",
       "</div>"
      ],
      "text/plain": [
       "                                               title  \\\n",
       "0  State Department says halts review of Clinton ...   \n",
       "1   Jeff Sessions Lies Through His Teeth In Openi...   \n",
       "2  LIBERAL “The View” HOSTS MOCK HILLARY’S RESPON...   \n",
       "3  PRESIDENT TRUMP Hits Back At Activist Judge On...   \n",
       "4  BRILLIANT! Why “Democratic” Socialism Doesn’t ...   \n",
       "5   MSNBC Host Can’t Help But Be Perfectly Sexist...   \n",
       "6  Supreme Court standoff looms over Republicans'...   \n",
       "7   Male Republican Blames ‘Female Senators’ For ...   \n",
       "8  Clinton sole presidential hopeful to attend As...   \n",
       "9  Russia says U.S. Iran sanctions undermine nucl...   \n",
       "\n",
       "                                                text          subject  \\\n",
       "0  WASHINGTON (Reuters) - The U.S. State Departme...     politicsNews   \n",
       "1  Alabama Senator Jeff Sessions, who is Donald T...             News   \n",
       "2  Hell begins freeze over Did We Ever Think That...         politics   \n",
       "3  Judge Orrick in California ruled against Presi...         politics   \n",
       "4  This is Stephen Crowder at his best So smart a...  Government News   \n",
       "5  Tuesday night was a very big night for Democra...             News   \n",
       "6  WASHINGTON (Reuters) - Republicans’ refusal to...     politicsNews   \n",
       "7  A Texas Republican congressman blamed female R...             News   \n",
       "8  NEW YORK (Reuters) - U.S. Democrat Hillary Cli...     politicsNews   \n",
       "9  UNITED NATIONS (Reuters) - U.S. unilateral san...        worldnews   \n",
       "\n",
       "                  date  class  \n",
       "0       April 1, 2016       1  \n",
       "1     January 10, 2017      0  \n",
       "2         Mar 24, 2016      0  \n",
       "3         Apr 26, 2017      0  \n",
       "4         Apr 30, 2016      0  \n",
       "5       March 16, 2016      0  \n",
       "6       March 1, 2016       1  \n",
       "7        July 24, 2017      0  \n",
       "8      April 27, 2016       1  \n",
       "9  September 21, 2017       1  "
      ]
     },
     "execution_count": 16,
     "metadata": {},
     "output_type": "execute_result"
    }
   ],
   "source": [
    "df.head(10)"
   ]
  },
  {
   "cell_type": "markdown",
   "id": "4e2697e5-500a-4542-afee-fbc0cb5232ee",
   "metadata": {},
   "source": [
    "## Cleaning and Preparing the Text Data"
   ]
  },
  {
   "cell_type": "markdown",
   "id": "be034521-bd36-442d-92a5-c4914383169b",
   "metadata": {},
   "source": [
    "News text is cleaned using NLP techniques to prepare for model input."
   ]
  },
  {
   "cell_type": "markdown",
   "id": "bb0c2321-ef5a-4dae-ade9-245ace995b7a",
   "metadata": {},
   "source": [
    "### Importing Text Preprocessing Libraries"
   ]
  },
  {
   "cell_type": "code",
   "execution_count": 17,
   "id": "0940aa52-9b2c-4545-80a2-befd40a75fa4",
   "metadata": {},
   "outputs": [],
   "source": [
    "import re\n",
    "from bs4 import BeautifulSoup\n",
    "import warnings\n",
    "from bs4 import MarkupResemblesLocatorWarning\n",
    "\n",
    "# Suppress the specific warning raised by BeautifulSoup\n",
    "warnings.filterwarnings(\"ignore\", category=MarkupResemblesLocatorWarning)"
   ]
  },
  {
   "cell_type": "markdown",
   "id": "936973a0-0d5c-44da-b8bf-616434bcaeda",
   "metadata": {},
   "source": [
    "### Defining the `clean_text` Function"
   ]
  },
  {
   "cell_type": "markdown",
   "id": "ac2e6a7c-6f33-47e1-90cb-eac1a7819bff",
   "metadata": {},
   "source": [
    "This function removes punctuation, stopwords, and performs basic normalization."
   ]
  },
  {
   "cell_type": "code",
   "execution_count": 18,
   "id": "050d6122-b192-458f-b5f8-3e967e2cbab4",
   "metadata": {},
   "outputs": [],
   "source": [
    "def clean_text(text):\n",
    "    # Remove HTML tags using BeautifulSoup\n",
    "    text = BeautifulSoup(text, \"html.parser\").get_text()\n",
    "    \n",
    "    # Remove URLs using regex\n",
    "    text = re.sub(r'http\\S+|www\\S+', '', text)\n",
    "    \n",
    "    # Remove any non-alphanumeric characters, except spaces\n",
    "    text = re.sub(r'[^A-Za-z0-9\\s]', '', text)\n",
    "    \n",
    "    # Remove extra spaces\n",
    "    text = re.sub(r'\\s+', ' ', text).strip()\n",
    "    \n",
    "    return text"
   ]
  },
  {
   "cell_type": "code",
   "execution_count": 19,
   "id": "c3fde635-0fc8-4125-925f-4f901ee93d67",
   "metadata": {},
   "outputs": [
    {
     "name": "stdout",
     "output_type": "stream",
     "text": [
      "<class 'pandas.core.frame.DataFrame'>\n",
      "RangeIndex: 44888 entries, 0 to 44887\n",
      "Data columns (total 5 columns):\n",
      " #   Column   Non-Null Count  Dtype \n",
      "---  ------   --------------  ----- \n",
      " 0   title    44888 non-null  object\n",
      " 1   text     44888 non-null  object\n",
      " 2   subject  44888 non-null  object\n",
      " 3   date     44888 non-null  object\n",
      " 4   class    44888 non-null  int64 \n",
      "dtypes: int64(1), object(4)\n",
      "memory usage: 1.7+ MB\n"
     ]
    }
   ],
   "source": [
    "df.info()"
   ]
  },
  {
   "cell_type": "code",
   "execution_count": 20,
   "id": "0f519340-ae2e-4cd5-b54b-f958bf7114f7",
   "metadata": {},
   "outputs": [],
   "source": [
    "df['text'] = df['text'].apply(clean_text)\n",
    "df['title'] = df['title'].apply(clean_text)"
   ]
  },
  {
   "cell_type": "markdown",
   "id": "a567c38b-77ea-4ce9-8e0f-6700cbc939a3",
   "metadata": {},
   "source": [
    "### Creating a New Column: `content`"
   ]
  },
  {
   "cell_type": "markdown",
   "id": "b481e284-bd6c-4ff3-9192-a40e8603fd3e",
   "metadata": {},
   "source": [
    "The `title` and `text` are merged into a single `content` field used for modeling."
   ]
  },
  {
   "cell_type": "code",
   "execution_count": 21,
   "id": "8e1926c7-0c2b-4f84-9608-2043f61488a4",
   "metadata": {},
   "outputs": [
    {
     "name": "stdout",
     "output_type": "stream",
     "text": [
      "<class 'pandas.core.frame.DataFrame'>\n",
      "RangeIndex: 44888 entries, 0 to 44887\n",
      "Data columns (total 6 columns):\n",
      " #   Column   Non-Null Count  Dtype \n",
      "---  ------   --------------  ----- \n",
      " 0   title    44888 non-null  object\n",
      " 1   text     44888 non-null  object\n",
      " 2   subject  44888 non-null  object\n",
      " 3   date     44888 non-null  object\n",
      " 4   class    44888 non-null  int64 \n",
      " 5   content  44888 non-null  object\n",
      "dtypes: int64(1), object(5)\n",
      "memory usage: 2.1+ MB\n"
     ]
    }
   ],
   "source": [
    "df['content'] = df['title'].str.upper() + \": \" + df['text']\n",
    "df.info()"
   ]
  },
  {
   "cell_type": "markdown",
   "id": "b5bd871c-b539-4ae2-ac07-ac10fc547927",
   "metadata": {},
   "source": [
    "### Dropping Unnecessary Columns"
   ]
  },
  {
   "cell_type": "markdown",
   "id": "733a34e5-30f4-4a99-b0e1-a9b370415583",
   "metadata": {},
   "source": [
    "Irrelevant columns (in context of our analysis) like `title`, `text`, and `date` are dropped."
   ]
  },
  {
   "cell_type": "code",
   "execution_count": 22,
   "id": "600502ee-c2f7-4af7-8a1d-dd2eb4dcb46e",
   "metadata": {},
   "outputs": [
    {
     "data": {
      "text/html": [
       "<div>\n",
       "<style scoped>\n",
       "    .dataframe tbody tr th:only-of-type {\n",
       "        vertical-align: middle;\n",
       "    }\n",
       "\n",
       "    .dataframe tbody tr th {\n",
       "        vertical-align: top;\n",
       "    }\n",
       "\n",
       "    .dataframe thead th {\n",
       "        text-align: right;\n",
       "    }\n",
       "</style>\n",
       "<table border=\"1\" class=\"dataframe\">\n",
       "  <thead>\n",
       "    <tr style=\"text-align: right;\">\n",
       "      <th></th>\n",
       "      <th>class</th>\n",
       "      <th>content</th>\n",
       "    </tr>\n",
       "  </thead>\n",
       "  <tbody>\n",
       "    <tr>\n",
       "      <th>0</th>\n",
       "      <td>1</td>\n",
       "      <td>STATE DEPARTMENT SAYS HALTS REVIEW OF CLINTON ...</td>\n",
       "    </tr>\n",
       "    <tr>\n",
       "      <th>1</th>\n",
       "      <td>0</td>\n",
       "      <td>JEFF SESSIONS LIES THROUGH HIS TEETH IN OPENIN...</td>\n",
       "    </tr>\n",
       "    <tr>\n",
       "      <th>2</th>\n",
       "      <td>0</td>\n",
       "      <td>LIBERAL THE VIEW HOSTS MOCK HILLARYS RESPONSE ...</td>\n",
       "    </tr>\n",
       "    <tr>\n",
       "      <th>3</th>\n",
       "      <td>0</td>\n",
       "      <td>PRESIDENT TRUMP HITS BACK AT ACTIVIST JUDGE ON...</td>\n",
       "    </tr>\n",
       "    <tr>\n",
       "      <th>4</th>\n",
       "      <td>0</td>\n",
       "      <td>BRILLIANT WHY DEMOCRATIC SOCIALISM DOESNT WORK...</td>\n",
       "    </tr>\n",
       "  </tbody>\n",
       "</table>\n",
       "</div>"
      ],
      "text/plain": [
       "   class                                            content\n",
       "0      1  STATE DEPARTMENT SAYS HALTS REVIEW OF CLINTON ...\n",
       "1      0  JEFF SESSIONS LIES THROUGH HIS TEETH IN OPENIN...\n",
       "2      0  LIBERAL THE VIEW HOSTS MOCK HILLARYS RESPONSE ...\n",
       "3      0  PRESIDENT TRUMP HITS BACK AT ACTIVIST JUDGE ON...\n",
       "4      0  BRILLIANT WHY DEMOCRATIC SOCIALISM DOESNT WORK..."
      ]
     },
     "execution_count": 22,
     "metadata": {},
     "output_type": "execute_result"
    }
   ],
   "source": [
    "df.drop(columns=['title', 'text','subject','date'], inplace = True)\n",
    "df.head()"
   ]
  },
  {
   "cell_type": "markdown",
   "id": "eaec9f14-38ae-4806-a639-31ee4c6169de",
   "metadata": {},
   "source": [
    "## Exploratory Data Analysis"
   ]
  },
  {
   "cell_type": "markdown",
   "id": "4b366f84-ca4f-41a4-adbe-3d345be577b0",
   "metadata": {},
   "source": [
    "Visualize and understand class distribution and textual characteristics."
   ]
  },
  {
   "cell_type": "markdown",
   "id": "5b539eab-9867-4313-b8a9-60e09af6c7ef",
   "metadata": {},
   "source": [
    "### Class Distribution"
   ]
  },
  {
   "cell_type": "code",
   "execution_count": 24,
   "id": "4fd43434-5f03-4df7-93cc-0009eb088f43",
   "metadata": {},
   "outputs": [
    {
     "data": {
      "image/png": "[encoded data removed]",
      "text/plain": [
       "<Figure size 1500x600 with 1 Axes>"
      ]
     },
     "metadata": {},
     "output_type": "display_data"
    }
   ],
   "source": [
    "import matplotlib.pyplot as plt\n",
    "import seaborn as sns\n",
    "\n",
    "# Set plot style\n",
    "sns.set(style=\"whitegrid\")\n",
    "\n",
    "# Plot class balance\n",
    "plt.figure(figsize=(15, 6))\n",
    "sns.countplot(data=df, x='class', hue = 'class', palette='pastel')\n",
    "plt.title(\"Distribution of True (1) vs Fake (0) News\")\n",
    "plt.xlabel(\"News Class\")\n",
    "plt.ylabel(\"Count\")\n",
    "plt.xticks(ticks=[0,1], labels=['Fake', 'True'])\n",
    "plt.show()"
   ]
  },
  {
   "cell_type": "markdown",
   "id": "01d06791-3f32-4b4f-84ab-433215691be6",
   "metadata": {},
   "source": [
    "### Word Count Distribution"
   ]
  },
  {
   "cell_type": "code",
   "execution_count": 26,
   "id": "60188e68-c75d-409a-af56-06b139593a85",
   "metadata": {},
   "outputs": [
    {
     "data": {
      "image/png": "[encoded data removed]",
      "text/plain": [
       "<Figure size 1500x600 with 1 Axes>"
      ]
     },
     "metadata": {},
     "output_type": "display_data"
    }
   ],
   "source": [
    "df['word_count'] = df['content'].apply(lambda x: len(x.split()))\n",
    "\n",
    "plt.figure(figsize=(15, 6))\n",
    "sns.histplot(data=df, x='word_count', bins=50, hue='class', element='step', stat='density', common_norm=False, palette='Set2')\n",
    "plt.title(\"Word Count Distribution by News Class\")\n",
    "plt.xlabel(\"Number of Words in Content\")\n",
    "plt.ylabel(\"Density\")\n",
    "plt.legend(labels=['Fake', 'Real'])\n",
    "plt.show()"
   ]
  },
  {
   "cell_type": "markdown",
   "id": "7ff12b82-b4e1-4349-b392-c798ff21c61a",
   "metadata": {},
   "source": [
    "## Model Specification"
   ]
  },
  {
   "cell_type": "markdown",
   "id": "b9f49970-99be-4697-817d-4321b9c0644e",
   "metadata": {},
   "source": [
    "### Importing Necessary libraries"
   ]
  },
  {
   "cell_type": "code",
   "execution_count": 27,
   "id": "e981829e-9f0e-436e-ae41-07693edbbb69",
   "metadata": {},
   "outputs": [],
   "source": [
    "from sklearn.model_selection import train_test_split # to Split Training and Testing\n",
    "from sklearn.feature_extraction.text import TfidfVectorizer # To Convert text to vectors"
   ]
  },
  {
   "cell_type": "markdown",
   "id": "42b689a4-0fc9-45a4-a2c4-8fbd5a23dde6",
   "metadata": {},
   "source": [
    "### Defining Features and Labels"
   ]
  },
  {
   "cell_type": "code",
   "execution_count": 28,
   "id": "7c7e07f1-0499-4712-a6e8-5c89864ac731",
   "metadata": {},
   "outputs": [],
   "source": [
    "X = df['content']\n",
    "y = df['class']"
   ]
  },
  {
   "cell_type": "markdown",
   "id": "e98d0768-a719-4321-b95e-77589f680bb5",
   "metadata": {},
   "source": [
    "### Train - Test Split "
   ]
  },
  {
   "cell_type": "code",
   "execution_count": 29,
   "id": "46a9ae28-bdfd-4e98-a480-cc812dbc455f",
   "metadata": {},
   "outputs": [],
   "source": [
    "X_train, X_test, y_train, y_test = train_test_split(X, y, test_size=0.2, random_state=23)"
   ]
  },
  {
   "cell_type": "markdown",
   "id": "30d80646-036b-4e31-aa96-d52928388503",
   "metadata": {},
   "source": [
    "### Text Vectorization (TF-IDF)"
   ]
  },
  {
   "cell_type": "markdown",
   "id": "1cfb78b9-655a-4de9-b5fa-c5fd37c0cab6",
   "metadata": {},
   "source": [
    "Converts text into numerical vectors for model training."
   ]
  },
  {
   "cell_type": "code",
   "execution_count": 30,
   "id": "3d02d8bc-104a-4e96-9403-65a7840667a1",
   "metadata": {},
   "outputs": [],
   "source": [
    "vectorizer = TfidfVectorizer(stop_words='english', max_df=0.7)\n",
    "X_train_tfidf = vectorizer.fit_transform(X_train)\n",
    "X_test_tfidf = vectorizer.transform(X_test)"
   ]
  },
  {
   "cell_type": "markdown",
   "id": "905becb7-0dfb-41d7-9d77-f5d5576dc70b",
   "metadata": {},
   "source": [
    "## Model Training"
   ]
  },
  {
   "cell_type": "markdown",
   "id": "68f5b909-d4c1-48f0-bfbe-fa0db43ab754",
   "metadata": {},
   "source": [
    "Multiple classifiers are trained and evaluated."
   ]
  },
  {
   "cell_type": "markdown",
   "id": "84c3b61d-f2a8-4f38-bb15-0af6e8ce5fa8",
   "metadata": {},
   "source": [
    "### Logestic Regression"
   ]
  },
  {
   "cell_type": "code",
   "execution_count": 31,
   "id": "7fdb99c5-46f1-456f-afa7-9f4b98c51b38",
   "metadata": {},
   "outputs": [
    {
     "name": "stdout",
     "output_type": "stream",
     "text": [
      "Accuracy: 0.9881933615504567\n",
      "\n",
      "Classification Report:\n",
      "               precision    recall  f1-score   support\n",
      "\n",
      "           0       0.99      0.99      0.99      4715\n",
      "           1       0.99      0.99      0.99      4263\n",
      "\n",
      "    accuracy                           0.99      8978\n",
      "   macro avg       0.99      0.99      0.99      8978\n",
      "weighted avg       0.99      0.99      0.99      8978\n",
      "\n",
      "\n",
      "Confusion Matrix:\n",
      " [[4658   57]\n",
      " [  49 4214]]\n"
     ]
    }
   ],
   "source": [
    "from sklearn.linear_model import LogisticRegression\n",
    "from sklearn.metrics import accuracy_score, classification_report, confusion_matrix\n",
    "\n",
    "LR_model = LogisticRegression()\n",
    "LR_model.fit(X_train_tfidf, y_train)\n",
    "\n",
    "# Predictions\n",
    "LR_pred = LR_model.predict(X_test_tfidf)\n",
    "\n",
    "# Evaluation\n",
    "print(\"Accuracy:\", accuracy_score(y_test, LR_pred))\n",
    "print(\"\\nClassification Report:\\n\", classification_report(y_test, LR_pred))\n",
    "print(\"\\nConfusion Matrix:\\n\", confusion_matrix(y_test, LR_pred))"
   ]
  },
  {
   "cell_type": "markdown",
   "id": "5d1737ad-a1ce-4c9a-a329-7259bbcf5ded",
   "metadata": {},
   "source": [
    "### Multinomial Naive Bayes"
   ]
  },
  {
   "cell_type": "code",
   "execution_count": 32,
   "id": "823575f2-772d-4704-aaac-4c024fc9cba8",
   "metadata": {},
   "outputs": [
    {
     "name": "stdout",
     "output_type": "stream",
     "text": [
      "Accuracy: 0.9490977946090443\n",
      "\n",
      "Classification Report:\n",
      "               precision    recall  f1-score   support\n",
      "\n",
      "           0       0.96      0.95      0.95      4715\n",
      "           1       0.94      0.95      0.95      4263\n",
      "\n",
      "    accuracy                           0.95      8978\n",
      "   macro avg       0.95      0.95      0.95      8978\n",
      "weighted avg       0.95      0.95      0.95      8978\n",
      "\n",
      "\n",
      "Confusion Matrix:\n",
      " [[4459  256]\n",
      " [ 201 4062]]\n"
     ]
    }
   ],
   "source": [
    "from sklearn.naive_bayes import MultinomialNB\n",
    "\n",
    "nb_model = MultinomialNB()\n",
    "nb_model.fit(X_train_tfidf, y_train)\n",
    "\n",
    "#Predictions\n",
    "nb_pred = nb_model.predict(X_test_tfidf)\n",
    "\n",
    "#Evaluation\n",
    "print(\"Accuracy:\", accuracy_score(y_test, nb_pred))\n",
    "print(\"\\nClassification Report:\\n\", classification_report(y_test, nb_pred))\n",
    "print(\"\\nConfusion Matrix:\\n\", confusion_matrix(y_test, nb_pred))"
   ]
  },
  {
   "cell_type": "markdown",
   "id": "fcfce213-e568-4e30-8465-4c1385ddce6d",
   "metadata": {},
   "source": [
    "### Support Vector Machine (Linear SVC)"
   ]
  },
  {
   "cell_type": "code",
   "execution_count": 35,
   "id": "e437cade-6808-4c04-a5e8-d94bf18e5b8c",
   "metadata": {},
   "outputs": [
    {
     "name": "stdout",
     "output_type": "stream",
     "text": [
      "Accuracy: 0.9969926486968145\n",
      "\n",
      "Classification Report:\n",
      "               precision    recall  f1-score   support\n",
      "\n",
      "           0       1.00      1.00      1.00      4715\n",
      "           1       1.00      1.00      1.00      4263\n",
      "\n",
      "    accuracy                           1.00      8978\n",
      "   macro avg       1.00      1.00      1.00      8978\n",
      "weighted avg       1.00      1.00      1.00      8978\n",
      "\n",
      "\n",
      "Confusion Matrix:\n",
      " [[4699   16]\n",
      " [  11 4252]]\n"
     ]
    }
   ],
   "source": [
    "from sklearn.svm import LinearSVC\n",
    "\n",
    "svm_model = LinearSVC()\n",
    "svm_model.fit(X_train_tfidf, y_train)\n",
    "\n",
    "#Predictions\n",
    "svm_pred = svm_model.predict(X_test_tfidf)\n",
    "\n",
    "#Evaluation\n",
    "print(\"Accuracy:\", accuracy_score(y_test, svm_pred))\n",
    "print(\"\\nClassification Report:\\n\", classification_report(y_test, svm_pred))\n",
    "print(\"\\nConfusion Matrix:\\n\", confusion_matrix(y_test, svm_pred))"
   ]
  },
  {
   "cell_type": "markdown",
   "id": "a72a6b6f-c7f9-485d-a0a1-af0a3990c459",
   "metadata": {},
   "source": [
    "### Random Forest Classifier"
   ]
  },
  {
   "cell_type": "code",
   "execution_count": 33,
   "id": "895616a5-cc23-41a9-a057-b39aee6e1d1f",
   "metadata": {},
   "outputs": [
    {
     "name": "stdout",
     "output_type": "stream",
     "text": [
      "Accuracy: 0.991869013143239\n",
      "\n",
      "Classification Report:\n",
      "               precision    recall  f1-score   support\n",
      "\n",
      "           0       0.99      0.99      0.99      4715\n",
      "           1       0.99      0.99      0.99      4263\n",
      "\n",
      "    accuracy                           0.99      8978\n",
      "   macro avg       0.99      0.99      0.99      8978\n",
      "weighted avg       0.99      0.99      0.99      8978\n",
      "\n",
      "\n",
      "Confusion Matrix:\n",
      " [[4674   41]\n",
      " [  32 4231]]\n"
     ]
    }
   ],
   "source": [
    "from sklearn.ensemble import RandomForestClassifier\n",
    "\n",
    "rf_model = RandomForestClassifier(n_estimators=100, random_state=42)\n",
    "rf_model.fit(X_train_tfidf, y_train)\n",
    "\n",
    "#Predictions\n",
    "rf_pred = rf_model.predict(X_test_tfidf)\n",
    "\n",
    "#Evaluation\n",
    "print(\"Accuracy:\", accuracy_score(y_test, rf_pred))\n",
    "print(\"\\nClassification Report:\\n\", classification_report(y_test, rf_pred))\n",
    "print(\"\\nConfusion Matrix:\\n\", confusion_matrix(y_test, rf_pred))"
   ]
  },
  {
   "cell_type": "markdown",
   "id": "4d4e0a3e-b724-4b0b-affb-783aa182819b",
   "metadata": {},
   "source": [
    "### Gradient Boosting Classifier"
   ]
  },
  {
   "cell_type": "code",
   "execution_count": 34,
   "id": "299ab707-52e8-4dd9-b270-ccbd21c26a59",
   "metadata": {},
   "outputs": [
    {
     "name": "stdout",
     "output_type": "stream",
     "text": [
      "Accuracy: 0.9948763644464246\n",
      "\n",
      "Classification Report:\n",
      "               precision    recall  f1-score   support\n",
      "\n",
      "           0       1.00      0.99      1.00      4715\n",
      "           1       0.99      1.00      0.99      4263\n",
      "\n",
      "    accuracy                           0.99      8978\n",
      "   macro avg       0.99      0.99      0.99      8978\n",
      "weighted avg       0.99      0.99      0.99      8978\n",
      "\n",
      "\n",
      "Confusion Matrix:\n",
      " [[4681   34]\n",
      " [  12 4251]]\n"
     ]
    }
   ],
   "source": [
    "from sklearn.ensemble import GradientBoostingClassifier\n",
    "\n",
    "gb_model = GradientBoostingClassifier()\n",
    "gb_model.fit(X_train_tfidf, y_train)\n",
    "\n",
    "#Predictions\n",
    "gb_pred = gb_model.predict(X_test_tfidf)\n",
    "\n",
    "#Evaluation\n",
    "print(\"Accuracy:\", accuracy_score(y_test, gb_pred))\n",
    "print(\"\\nClassification Report:\\n\", classification_report(y_test, gb_pred))\n",
    "print(\"\\nConfusion Matrix:\\n\", confusion_matrix(y_test, gb_pred))"
   ]
  },
  {
   "cell_type": "markdown",
   "id": "45b84cbd-384c-4e53-8711-28e403ddc70d",
   "metadata": {},
   "source": [
    "## Testing on Manual Samples"
   ]
  },
  {
   "cell_type": "markdown",
   "id": "143f38fb-661f-4b6d-85fc-e4eb8bc9e501",
   "metadata": {},
   "source": [
    "Evaluate models on hand-picked samples."
   ]
  },
  {
   "cell_type": "markdown",
   "id": "9cfc0ef0-02c0-4d35-9b0e-c94912b4180d",
   "metadata": {},
   "source": [
    "### Preparing Manual Test Samples"
   ]
  },
  {
   "cell_type": "code",
   "execution_count": 36,
   "id": "92169bfb-253a-4029-9ec9-ed32a9e50843",
   "metadata": {},
   "outputs": [],
   "source": [
    "# Manual samples: true_sample and fake_sample (5 each)\n",
    "manual_test = pd.concat([true_sample, fake_sample], axis=0).reset_index(drop=True)\n",
    "\n",
    "# Clean and preprocess\n",
    "manual_test['text'] = manual_test['text'].apply(clean_text)\n",
    "manual_test['title'] = manual_test['title'].apply(clean_text)\n",
    "manual_test['content'] = manual_test['title'].str.upper() + \": \" + manual_test['text']\n",
    "\n",
    "# TF-IDF transform\n",
    "manual_X = vectorizer.transform(manual_test['content'])\n",
    "\n",
    "# True labels\n",
    "manual_y = [1] * 5 + [0] * 5"
   ]
  },
  {
   "cell_type": "markdown",
   "id": "a67a5560-688e-4460-baba-24f90848d286",
   "metadata": {},
   "source": [
    "### Predict and Display Results from All Models"
   ]
  },
  {
   "cell_type": "code",
   "execution_count": 40,
   "id": "740436ec-8980-45b1-89d7-c5650e1e71a1",
   "metadata": {},
   "outputs": [
    {
     "name": "stdout",
     "output_type": "stream",
     "text": [
      "Manual Sample Prediction Results:\n",
      "\n",
      "🔍 MODEL: Logestic Regression\n",
      "Predicted: [1, 1, 1, 1, 1, 0, 1, 0, 0, 0]\n",
      "Actual:    [1, 1, 1, 1, 1, 0, 0, 0, 0, 0]\n",
      "Accuracy: 0.90\n",
      "------------------------------------------------------------\n",
      "🔍 MODEL: Naive Bayes\n",
      "Predicted: [1, 1, 1, 1, 1, 0, 1, 0, 0, 1]\n",
      "Actual:    [1, 1, 1, 1, 1, 0, 0, 0, 0, 0]\n",
      "Accuracy: 0.80\n",
      "------------------------------------------------------------\n",
      "🔍 MODEL: Linear Support Vector Machine\n",
      "Predicted: [1, 1, 1, 1, 1, 0, 0, 0, 0, 0]\n",
      "Actual:    [1, 1, 1, 1, 1, 0, 0, 0, 0, 0]\n",
      "Accuracy: 1.00\n",
      "------------------------------------------------------------\n",
      "🔍 MODEL: Random Forest\n",
      "Predicted: [1, 1, 1, 1, 1, 0, 1, 0, 0, 0]\n",
      "Actual:    [1, 1, 1, 1, 1, 0, 0, 0, 0, 0]\n",
      "Accuracy: 0.90\n",
      "------------------------------------------------------------\n",
      "🔍 MODEL: Gradient Boosting\n",
      "Predicted: [1, 1, 1, 1, 0, 0, 0, 0, 0, 0]\n",
      "Actual:    [1, 1, 1, 1, 1, 0, 0, 0, 0, 0]\n",
      "Accuracy: 0.90\n",
      "------------------------------------------------------------\n"
     ]
    }
   ],
   "source": [
    "models = {\n",
    "    \"Logestic Regression\": LR_model,\n",
    "    \"Naive Bayes\": nb_model,\n",
    "    \"Linear Support Vector Machine\": svm_model,\n",
    "    \"Random Forest\": rf_model,\n",
    "    \"Gradient Boosting\": gb_model\n",
    "}\n",
    "\n",
    "print(\"Manual Sample Prediction Results:\\n\")\n",
    "\n",
    "for name, model in models.items():\n",
    "    manual_pred = model.predict(manual_X)\n",
    "    print(f\"🔍 MODEL: {name}\")\n",
    "    print(\"Predicted:\", manual_pred.tolist())\n",
    "    print(\"Actual:   \", manual_y)\n",
    "    print(\"Accuracy: {:.2f}\".format(accuracy_score(manual_y, manual_pred)))\n",
    "    #print(\"Classification Report:\\n\", classification_report(manual_y, manual_pred, zero_division=0))\n",
    "    print(\"-\" * 60)\n"
   ]
  }
 ],
 "metadata": {
  "kernelspec": {
   "display_name": "Python 3 (ipykernel)",
   "language": "python",
   "name": "python3"
  },
  "language_info": {
   "codemirror_mode": {
    "name": "ipython",
    "version": 3
   },
   "file_extension": ".py",
   "mimetype": "text/x-python",
   "name": "python",
   "nbconvert_exporter": "python",
   "pygments_lexer": "ipython3",
   "version": "3.10.16"
  }
 },
 "nbformat": 4,
 "nbformat_minor": 5
}
